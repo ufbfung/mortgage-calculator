{
  "nbformat": 4,
  "nbformat_minor": 0,
  "metadata": {
    "colab": {
      "provenance": [],
      "authorship_tag": "ABX9TyPr6NSRlLK1xOwT1zMKzdUZ",
      "include_colab_link": true
    },
    "kernelspec": {
      "name": "python3",
      "display_name": "Python 3"
    },
    "language_info": {
      "name": "python"
    }
  },
  "cells": [
    {
      "cell_type": "markdown",
      "metadata": {
        "id": "view-in-github",
        "colab_type": "text"
      },
      "source": [
        "<a href=\"https://colab.research.google.com/github/ufbfung/mortgage-calculator/blob/main/Mortgage_Calculator.ipynb\" target=\"_parent\"><img src=\"https://colab.research.google.com/assets/colab-badge.svg\" alt=\"Open In Colab\"/></a>"
      ]
    },
    {
      "cell_type": "code",
      "source": [
        "import streamlit as st\n",
        "import requests\n",
        "import json\n",
        "\n",
        "def main():\n",
        "    # Define FRED API key and base URL\n",
        "    fred_api_key = 'ac53cf8d2bfd2dec1edc849ca32d3cbd'\n",
        "    fred_base_url = 'https://api.stlouisfed.org/fred/'\n",
        "\n",
        "    # Define the series ID for the most recent 30-year fixed-rate mortgage\n",
        "    fred_series_id = 'MORTGAGE30US'\n",
        "\n",
        "    # Define the API request URL\n",
        "    fred_url = f'{fred_base_url}series/observations?series_id={fred_series_id}&api_key={fred_api_key}&file_type=json&limit=1&sort_order=desc'\n",
        "\n",
        "    # Send the API request and parse the response JSON\n",
        "    response = requests.get(fred_url)\n",
        "    data = json.loads(response.content.decode())\n",
        "\n",
        "    # Extract the most recent observation and the interest rate\n",
        "    latest_observation = data['observations'][0]\n",
        "    interest_rate = float(latest_observation['value'])\n",
        "\n",
        "    # Set loan term to 30 years\n",
        "    loan_term_years = 30\n",
        "\n",
        "    # Get user input for mortgage amount and down payment as a percentage of the mortgage amount\n",
        "    mortgage_amount = st.number_input('Enter the mortgage amount:', value=400000)\n",
        "    down_payment_percent = st.slider('Enter the down payment as a percentage of the mortgage amount:', 0, 100, 20)\n",
        "\n",
        "    # Convert down payment percentage to dollar amount\n",
        "    down_payment = mortgage_amount * (down_payment_percent / 100)\n",
        "\n",
        "    # Calculate the loan amount, number of monthly payments, and monthly interest rate\n",
        "    loan_amount = mortgage_amount - down_payment\n",
        "    loan_term_months = loan_term_years * 12\n",
        "    monthly_interest_rate = (interest_rate / 100) / 12\n",
        "\n",
        "    # Calculate the monthly mortgage payment\n",
        "    monthly_payment = (loan_amount * monthly_interest_rate) / (1 - (1 + monthly_interest_rate) ** (-loan_term_months))\n",
        "\n",
        "    # Calculate the estimated property taxes (annual rate is assumed to be 1.2% of the home value)\n",
        "    property_taxes = mortgage_amount * 0.012 / 12\n",
        "\n",
        "    # Calculate the estimated home insurance (annual rate is assumed to be 0.4% of the home value)\n",
        "    home_insurance = mortgage_amount * 0.004 / 12\n",
        "\n",
        "    # Get user input for HOA fees\n",
        "    hoa_fees = st.number_input('Enter the monthly HOA fees (if applicable):', value=0)\n",
        "\n",
        "    # Calculate the estimated mortgage insurance (if applicable)\n",
        "    if down_payment_percent < 20:\n",
        "        mortgage_insurance_rate = 0.0085\n",
        "        mortgage_insurance = (mortgage_amount * mortgage_insurance_rate / 12)\n",
        "    else:\n",
        "        mortgage_insurance = 0\n",
        "\n",
        "    # Calculate the total monthly cost\n",
        "    total_monthly_cost = monthly_payment + property_taxes + home_insurance + hoa_fees + mortgage_insurance\n",
        "\n",
        "    # Print the monthly mortgage payment, estimated expenses, and total monthly cost\n",
        "    st.write(f'The monthly mortgage payment is ${monthly_payment:.2f}')\n",
        "    st.write(f'Estimated monthly property taxes: ${property_taxes:.2f}')\n",
        "    st.write(f'Estimated monthly home insurance: ${home_insurance:.2f}')\n",
        "    st.write(f'Monthly HOA fees: ${hoa_fees:.2f}')\n",
        "    if down_payment_percent < 20:\n",
        "        st.write(f'Estimated monthly mortgage insurance: ${mortgage_insurance:.2f}')\n",
        "    st.write(f'The total monthly cost is ${total_monthly_cost:.2f}')\n",
        "\n",
        "if __name__ == '__main__':\n",
        "    st.set_page_config(page_title='Mortgage Calculator')\n",
        "    main()"
      ],
      "metadata": {
        "colab": {
          "base_uri": "https://localhost:8080/"
        },
        "id": "abtJQ3M_P2zO",
        "outputId": "faaabf46-925f-402a-8eb5-405e233a4dd2"
      },
      "execution_count": 37,
      "outputs": [
        {
          "output_type": "stream",
          "name": "stderr",
          "text": [
            "WARNING:root:\n",
            "  \u001b[33m\u001b[1mWarning:\u001b[0m to view this Streamlit app on a browser, run it with the following\n",
            "  command:\n",
            "\n",
            "    streamlit run /usr/local/lib/python3.9/dist-packages/ipykernel_launcher.py [ARGUMENTS]\n",
            "2023-03-27 05:25:43.266 \n",
            "  \u001b[33m\u001b[1mWarning:\u001b[0m to view this Streamlit app on a browser, run it with the following\n",
            "  command:\n",
            "\n",
            "    streamlit run /usr/local/lib/python3.9/dist-packages/ipykernel_launcher.py [ARGUMENTS]\n"
          ]
        }
      ]
    },
    {
      "cell_type": "code",
      "source": [],
      "metadata": {
        "id": "ejDlf08oh4Ir"
      },
      "execution_count": null,
      "outputs": []
    }
  ]
}